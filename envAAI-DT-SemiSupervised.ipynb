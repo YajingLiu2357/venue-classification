{
 "cells": [
  {
   "cell_type": "markdown",
   "id": "fc6eebef-d04d-4b06-a783-c7f87a6b538a",
   "metadata": {},
   "source": [
    "📌 Project Introduction\n",
    "\n",
    "In this project, we use three different models to classify images of five different venues: decision tree supervised, decision tree semi-supervised and CNN supervised.\n",
    "This notebook adress only the second model.\n",
    "\n",
    "📌 Semi-Supervised Learning uses both labeled and unlabeled data to improve accuracy. By leveraging the structure of decision trees, this approach enhances predictions by utilizing all available data\n",
    "\n",
    "📌 In this Project, we will:\n",
    "\n",
    "    Analyze customer data provided in data set (EDA= exploratory data analysis) \n",
    "    Build two models that can classify images"
   ]
  },
  {
   "cell_type": "markdown",
   "id": "96186a48-6bdb-4e92-b128-b3cbebbca988",
   "metadata": {},
   "source": [
    "📌 Install  and importing Libraries"
   ]
  },
  {
   "cell_type": "code",
   "execution_count": 1,
   "id": "d6454004-a3b0-4a2e-8aa2-f9d2a856207d",
   "metadata": {},
   "outputs": [],
   "source": [
    "import os\n",
    "import matplotlib.pyplot as plt\n",
    "import numpy as np\n",
    "import pandas as pd\n",
    "from dask.diagnostics import ProgressBar\n",
    "from PIL import Image\n",
    "import dask.bag as db"
   ]
  },
  {
   "cell_type": "code",
   "execution_count": 2,
   "id": "396cdc9e-7ec0-4b9a-8c67-72280fa4f6c0",
   "metadata": {},
   "outputs": [],
   "source": [
    "import torch\n",
    "import torchvision.transforms as transforms\n",
    "from sklearn.model_selection import train_test_split\n",
    "from sklearn.metrics import accuracy_score, ConfusionMatrixDisplay, confusion_matrix, precision_score, recall_score, f1_score\n",
    "import platform\n",
    "from sklearn.semi_supervised import LabelPropagation\n",
    "from sklearn.tree import DecisionTreeClassifier"
   ]
  },
  {
   "cell_type": "markdown",
   "id": "b47b93ad-9b7e-4a6e-8cf0-cdfbc13526bf",
   "metadata": {},
   "source": [
    "## Decision trees for SemiSupervised learning\n"
   ]
  },
  {
   "cell_type": "markdown",
   "id": "3db0a0b2-63e2-4219-afaa-05e214e832e1",
   "metadata": {},
   "source": [
    "#### Code for use gpu in Mac"
   ]
  },
  {
   "cell_type": "code",
   "execution_count": 3,
   "id": "e0e27b18-016d-4595-86da-cad6d5bf45da",
   "metadata": {},
   "outputs": [],
   "source": [
    "has_gpu = torch.cuda.is_available()\n",
    "has_mps = torch.backends.mps.is_built()\n",
    "device = \"mps\" if has_mps else \"cuda\" if torch.cuda.is_available() else \"cpu\""
   ]
  },
  {
   "cell_type": "code",
   "execution_count": 4,
   "id": "cd42ec70-f97c-486e-b2ea-b7f25aba9a81",
   "metadata": {},
   "outputs": [
    {
     "name": "stdout",
     "output_type": "stream",
     "text": [
      "Python Platform: macOS-12.6-arm64-arm-64bit\n",
      "MPS (Apple Metal) is AVAILABLE\n",
      "Target device is mps\n"
     ]
    }
   ],
   "source": [
    "print(f\"Python Platform: {platform.platform()}\")\n",
    "print(\"MPS (Apple Metal) is\", \"AVAILABLE\" if has_mps else \"NOT AVAILABLE\")\n",
    "print(f\"Target device is {device}\")"
   ]
  },
  {
   "cell_type": "markdown",
   "id": "dc888519-4136-43cf-a6f3-3f71d38c6b03",
   "metadata": {},
   "source": [
    "📌 Load images"
   ]
  },
  {
   "cell_type": "code",
   "execution_count": 5,
   "id": "42dce3c8-d2f5-4345-b9a8-c4138ce138e1",
   "metadata": {},
   "outputs": [],
   "source": [
    "img_path = 'final_dataset'\n",
    "images = []\n",
    "labels = []\n",
    "\n",
    "label_map = {\n",
    "    'bar': 0,\n",
    "    'beach': 1,\n",
    "    'bookstore': 2,\n",
    "    'restaurant': 3,\n",
    "    'subway': 4\n",
    "}"
   ]
  },
  {
   "cell_type": "code",
   "execution_count": 6,
   "id": "b6635d0f-3ce8-48b2-9a32-94ca7c4d898f",
   "metadata": {},
   "outputs": [],
   "source": [
    "device = torch.device('cpu')"
   ]
  },
  {
   "cell_type": "code",
   "execution_count": 7,
   "id": "b8ae821b-e315-41f5-94e6-dbd4aafdd5e0",
   "metadata": {},
   "outputs": [
    {
     "name": "stdout",
     "output_type": "stream",
     "text": [
      "finish to read all bar images\n",
      "finish to read all beach images\n",
      "finish to read all bookstore images\n",
      "finish to read all restaurant images\n",
      "finish to read all subway images\n"
     ]
    }
   ],
   "source": [
    "transforms = transforms.Compose([\n",
    "    transforms.Resize((64, 64)),\n",
    "    transforms.ToTensor()\n",
    "])\n",
    "for name, num in label_map.items():\n",
    "    for img_name in os.listdir(os.path.join(img_path, name)):\n",
    "        img_file = Image.open(os.path.join(img_path, name, img_name)).convert('RGB')\n",
    "        img = transforms(img_file).to(device)\n",
    "        images.append(img.cpu().numpy())\n",
    "        labels.append(num)\n",
    "    print(f\"finish to read all {name} images\")\n",
    "\n",
    "\n",
    "X = np.array(images)\n",
    "Y = np.array(labels)\n",
    "\n",
    "\n",
    "\n",
    "X = X / 255.0\n",
    "\n",
    "# Reshape\n",
    "X_reshape = X.reshape(X.shape[0], -1)\n"
   ]
  },
  {
   "cell_type": "markdown",
   "id": "b22e042d-2c40-45dc-af27-76c11fa248a1",
   "metadata": {},
   "source": [
    "📌 Train and Test data split"
   ]
  },
  {
   "cell_type": "code",
   "execution_count": 8,
   "id": "a8f50c13-ac4d-4e73-9d4c-81af2d1d3045",
   "metadata": {},
   "outputs": [],
   "source": [
    "num_cluster = 5\n",
    "X_train, X_test, Y_train, Y_test = train_test_split(X_reshape,Y, test_size=0.2, random_state=42)"
   ]
  },
  {
   "cell_type": "markdown",
   "id": "2e5d204f-7046-4bbc-97c3-989e6b7826f3",
   "metadata": {},
   "source": [
    "📌 Labeled and unlabeled data split"
   ]
  },
  {
   "cell_type": "code",
   "execution_count": 9,
   "id": "dfb52d35-3810-495a-81b0-9edbed592128",
   "metadata": {},
   "outputs": [],
   "source": [
    "X_labeled, X_unlabeled, Y_labeled, Y_unlabeled = train_test_split(X_train, Y_train, test_size=0.8, random_state=42)\n",
    "Y_train_unlabeled = np.full(Y_unlabeled.shape, -1)"
   ]
  },
  {
   "cell_type": "code",
   "execution_count": 10,
   "id": "5ae7f501-a635-4ff0-a816-1f7e4cd2e144",
   "metadata": {},
   "outputs": [],
   "source": [
    "X_labeled_train = X_labeled\n",
    "X_unlabeled_train = X_unlabeled\n",
    "Y_unlabeled_train = Y_train_unlabeled\n",
    "Y_labeled_train = Y_labeled\n",
    "\n",
    "decision_tree = DecisionTreeClassifier(criterion=\"entropy\", max_depth=20, min_samples_split=20, min_samples_leaf=8)\n",
    "\n",
    "\n",
    "for i in range(0,15):\n",
    "    lprediction = decision_tree.fit(X_labeled_train, Y_labeled_train)\n",
    "    \n",
    "    Y_unlabeled_pred_proba = lprediction.predict_proba(X_unlabeled_train)\n",
    "    Y_unlabeled_pred = lprediction.predict(X_unlabeled_train)\n",
    "\n",
    "    \n",
    "    confidence_scores = np.max(Y_unlabeled_pred_proba, axis=1)\n",
    "    num_high_confidence = int(0.10 * len(Y_unlabeled_pred))\n",
    "    top_indices = np.argsort(confidence_scores)[-num_high_confidence:]\n",
    "\n",
    "    X_high_confidence = X_unlabeled_train[top_indices]\n",
    "    Y_high_confidence = Y_unlabeled_pred[top_indices]\n",
    "\n",
    "    \n",
    "    mask = np.ones(len(X_unlabeled_train), dtype=bool)\n",
    "    mask[top_indices] = False\n",
    "    X_unlabeled_train = X_unlabeled_train[mask]\n",
    "    Y_unlabeled_train = Y_unlabeled_train[mask]\n",
    "\n",
    "    X_labeled_train = np.concatenate((X_labeled_train, X_high_confidence))\n",
    "    Y_labeled_train = np.concatenate((Y_labeled_train, Y_high_confidence))"
   ]
  },
  {
   "cell_type": "code",
   "execution_count": 11,
   "id": "ca559e42-3875-4441-8802-b9249e9d172a",
   "metadata": {},
   "outputs": [
    {
     "name": "stdout",
     "output_type": "stream",
     "text": [
      "Accuracy: 0.4139; Precision: 0.4041; Recall: 0.4112; F1: 0.4065\n",
      "Class bar - Accuracy: 0.4071; Precision: 0.3654; Recall: 0.4071; F1-score: 0.3851\n",
      "Class beach - Accuracy: 0.8165; Precision: 0.7607; Recall: 0.8165; F1-score: 0.7876\n",
      "Class bookstore - Accuracy: 0.3841; Precision: 0.3681; Recall: 0.3841; F1-score: 0.3759\n",
      "Class restaurant - Accuracy: 0.2188; Precision: 0.2658; Recall: 0.2188; F1-score: 0.2400\n",
      "Class subway - Accuracy: 0.2294; Precision: 0.2604; Recall: 0.2294; F1-score: 0.2439\n"
     ]
    },
    {
     "data": {
      "image/png": "[encoded data removed]",
      "text/plain": [
       "<Figure size 640x480 with 2 Axes>"
      ]
     },
     "metadata": {},
     "output_type": "display_data"
    }
   ],
   "source": [
    "# Evaluation\n",
    "Y_pred = decision_tree.predict(X_test)\n",
    "accuracy = accuracy_score(Y_test, Y_pred)\n",
    "precision = precision_score(Y_test, Y_pred, average='macro')\n",
    "recall = recall_score(Y_test, Y_pred, average='macro')\n",
    "f1 = f1_score(Y_test, Y_pred, average='macro')\n",
    "conf_matrix = confusion_matrix(Y_test, Y_pred)\n",
    "print(f\"Accuracy: {accuracy:.4f}; Precision: {precision:.4f}; Recall: {recall:.4f}; F1: {f1:.4f}\")\n",
    "\n",
    "class_correct = [0] * len(label_map)\n",
    "class_total = [0] * len(label_map)\n",
    "\n",
    "for i in range(len(Y_test)):\n",
    "    label = Y_test[i]\n",
    "    pred = Y_pred[i]\n",
    "    if label == pred:\n",
    "        class_correct[label] += 1\n",
    "    class_total[label] += 1\n",
    "\n",
    "for i in range(len(label_map)):\n",
    "    class_acc = class_correct[i] / class_total[i] if class_total[i] > 0 else 0\n",
    "    class_prec = precision_score(Y_test, Y_pred, labels=[i], average='macro', zero_division=0)\n",
    "    class_rec = recall_score(Y_test, Y_pred, labels=[i], average='macro', zero_division=0)\n",
    "    class_f1 = f1_score(Y_test, Y_pred, labels=[i], average='macro', zero_division=0)\n",
    "    print(f\"Class {list(label_map.keys())[i]} - Accuracy: {class_acc:.4f}; Precision: {class_prec:.4f}; Recall: {class_rec:.4f}; F1-score: {class_f1:.4f}\")\n",
    "\n",
    "confusion_matrix_display = ConfusionMatrixDisplay(conf_matrix, display_labels=label_map.keys())\n",
    "confusion_matrix_display.plot()\n",
    "plt.show()"
   ]
  },
  {
   "cell_type": "markdown",
   "id": "e3459b74-1708-4f74-80b3-1094894129c6",
   "metadata": {},
   "source": [
    "## Semi-supervised Decision Tree on Augmented Datasets\n",
    "`img_path=\"final_dataset_augmentated\"`"
   ]
  },
  {
   "cell_type": "code",
   "execution_count": 12,
   "id": "1bb2e8c1-dfd0-4e12-8b00-3162f670fa4e",
   "metadata": {},
   "outputs": [
    {
     "name": "stdout",
     "output_type": "stream",
     "text": [
      "Python Platform: macOS-12.6-arm64-arm-64bit\n",
      "MPS (Apple Metal) is AVAILABLE\n",
      "Target device is mps\n",
      "finish to read all bar images\n",
      "finish to read all beach images\n",
      "finish to read all bookstore images\n",
      "finish to read all restaurant images\n",
      "finish to read all subway images\n",
      "Accuracy: 0.5721; Precision: 0.5745; Recall: 0.5867; F1: 0.5789\n",
      "Class bar - Accuracy: 0.3667; Precision: 0.4622; Recall: 0.3667; F1-score: 0.4089\n",
      "Class beach - Accuracy: 0.8125; Precision: 0.7339; Recall: 0.8125; F1-score: 0.7712\n",
      "Class bookstore - Accuracy: 0.5099; Precision: 0.4783; Recall: 0.5099; F1-score: 0.4936\n",
      "Class restaurant - Accuracy: 0.9204; Precision: 0.8889; Recall: 0.9204; F1-score: 0.9043\n",
      "Class subway - Accuracy: 0.3238; Precision: 0.3091; Recall: 0.3238; F1-score: 0.3163\n"
     ]
    },
    {
     "data": {
      "image/png": "[encoded data removed]",
      "text/plain": [
       "<Figure size 640x480 with 2 Axes>"
      ]
     },
     "metadata": {},
     "output_type": "display_data"
    }
   ],
   "source": [
    "import os\n",
    "import matplotlib.pyplot as plt\n",
    "import numpy as np\n",
    "import pandas as pd\n",
    "from dask.diagnostics import ProgressBar\n",
    "from PIL import Image\n",
    "import dask.bag as db\n",
    "import torch\n",
    "import torchvision.transforms as transforms\n",
    "from sklearn.model_selection import train_test_split\n",
    "from sklearn.metrics import accuracy_score, ConfusionMatrixDisplay, confusion_matrix, precision_score, recall_score, f1_score\n",
    "import platform\n",
    "from sklearn.semi_supervised import LabelPropagation\n",
    "from sklearn.tree import DecisionTreeClassifier\n",
    "\n",
    "has_gpu = torch.cuda.is_available()\n",
    "has_mps = torch.backends.mps.is_built()\n",
    "device = \"mps\" if has_mps else \"cuda\" if torch.cuda.is_available() else \"CPU\"\n",
    "\n",
    "print(f\"Python Platform: {platform.platform()}\")\n",
    "print(\"MPS (Apple Metal) is\", \"AVAILABLE\" if has_mps else \"NOT AVAILABLE\")\n",
    "print(f\"Target device is {device}\")\n",
    "\n",
    "img_path = 'final_dataset_augmentated'\n",
    "images = []\n",
    "labels = []\n",
    "\n",
    "label_map = {\n",
    "    'bar': 0,\n",
    "    'beach': 1,\n",
    "    'bookstore': 2,\n",
    "    'restaurant': 3,\n",
    "    'subway': 4\n",
    "}\n",
    "\n",
    "device = torch.device('cpu')\n",
    "\n",
    "transforms = transforms.Compose([\n",
    "    transforms.Resize((64, 64)),\n",
    "    transforms.ToTensor()\n",
    "])\n",
    "for name, num in label_map.items():\n",
    "    for img_name in os.listdir(os.path.join(img_path, name)):\n",
    "        img_file = Image.open(os.path.join(img_path, name, img_name)).convert('RGB')\n",
    "        img = transforms(img_file).to(device)\n",
    "        images.append(img.cpu().numpy())\n",
    "        labels.append(num)\n",
    "    print(f\"finish to read all {name} images\")\n",
    "\n",
    "\n",
    "X = np.array(images)\n",
    "Y = np.array(labels)\n",
    "\n",
    "\n",
    "\n",
    "X = X / 255.0\n",
    "\n",
    "# Reshape\n",
    "X_reshape = X.reshape(X.shape[0], -1)\n",
    "\n",
    "num_cluster = 5\n",
    "X_train, X_test, Y_train, Y_test = train_test_split(X_reshape,Y, test_size=0.2, random_state=42)\n",
    "\n",
    "X_labeled, X_unlabeled, Y_labeled, Y_unlabeled = train_test_split(X_train, Y_train, test_size=0.8, random_state=42)\n",
    "Y_train_unlabeled = np.full(Y_unlabeled.shape, -1)\n",
    "\n",
    "X_labeled_train = X_labeled\n",
    "X_unlabeled_train = X_unlabeled\n",
    "Y_unlabeled_train = Y_train_unlabeled\n",
    "Y_labeled_train = Y_labeled\n",
    "\n",
    "decision_tree = DecisionTreeClassifier(criterion=\"entropy\", max_depth=20, min_samples_split=20, min_samples_leaf=8)\n",
    "\n",
    "\n",
    "for i in range(0,15):\n",
    "    lprediction = decision_tree.fit(X_labeled_train, Y_labeled_train)\n",
    "    \n",
    "    Y_unlabeled_pred_proba = lprediction.predict_proba(X_unlabeled_train)\n",
    "    Y_unlabeled_pred = lprediction.predict(X_unlabeled_train)\n",
    "\n",
    "    \n",
    "    confidence_scores = np.max(Y_unlabeled_pred_proba, axis=1)\n",
    "    num_high_confidence = int(0.10 * len(Y_unlabeled_pred))\n",
    "    top_indices = np.argsort(confidence_scores)[-num_high_confidence:]\n",
    "\n",
    "    X_high_confidence = X_unlabeled_train[top_indices]\n",
    "    Y_high_confidence = Y_unlabeled_pred[top_indices]\n",
    "\n",
    "    \n",
    "    mask = np.ones(len(X_unlabeled_train), dtype=bool)\n",
    "    mask[top_indices] = False\n",
    "    X_unlabeled_train = X_unlabeled_train[mask]\n",
    "    Y_unlabeled_train = Y_unlabeled_train[mask]\n",
    "\n",
    "    X_labeled_train = np.concatenate((X_labeled_train, X_high_confidence))\n",
    "    Y_labeled_train = np.concatenate((Y_labeled_train, Y_high_confidence))\n",
    "\n",
    "# Evaluation\n",
    "Y_pred = decision_tree.predict(X_test)\n",
    "accuracy = accuracy_score(Y_test, Y_pred)\n",
    "precision = precision_score(Y_test, Y_pred, average='macro')\n",
    "recall = recall_score(Y_test, Y_pred, average='macro')\n",
    "f1 = f1_score(Y_test, Y_pred, average='macro')\n",
    "conf_matrix = confusion_matrix(Y_test, Y_pred)\n",
    "print(f\"Accuracy: {accuracy:.4f}; Precision: {precision:.4f}; Recall: {recall:.4f}; F1: {f1:.4f}\")\n",
    "\n",
    "class_correct = [0] * len(label_map)\n",
    "class_total = [0] * len(label_map)\n",
    "\n",
    "for i in range(len(Y_test)):\n",
    "    label = Y_test[i]\n",
    "    pred = Y_pred[i]\n",
    "    if label == pred:\n",
    "        class_correct[label] += 1\n",
    "    class_total[label] += 1\n",
    "\n",
    "for i in range(len(label_map)):\n",
    "    class_acc = class_correct[i] / class_total[i] if class_total[i] > 0 else 0\n",
    "    class_prec = precision_score(Y_test, Y_pred, labels=[i], average='macro', zero_division=0)\n",
    "    class_rec = recall_score(Y_test, Y_pred, labels=[i], average='macro', zero_division=0)\n",
    "    class_f1 = f1_score(Y_test, Y_pred, labels=[i], average='macro', zero_division=0)\n",
    "    print(f\"Class {list(label_map.keys())[i]} - Accuracy: {class_acc:.4f}; Precision: {class_prec:.4f}; Recall: {class_rec:.4f}; F1-score: {class_f1:.4f}\")\n",
    "\n",
    "confusion_matrix_display = ConfusionMatrixDisplay(conf_matrix, display_labels=label_map.keys())\n",
    "confusion_matrix_display.plot()\n",
    "plt.show()"
   ]
  },
  {
   "cell_type": "markdown",
   "id": "45bed57c-0fc0-4cac-9d9b-9f4f178db66b",
   "metadata": {},
   "source": [
    "## Semi-supervised Decision Tree with Specific Hyperparameter Values\n",
    "We use grid search on the supervised decision tree and we get the best hyperparameter value `{'criterion': 'entropy', 'max_depth': 30, 'min_samples_leaf': 1, 'min_samples_split': 2}`. We will rerun the semi-supervised decision tree with these hyperparameter values."
   ]
  },
  {
   "cell_type": "code",
   "execution_count": 14,
   "id": "fb4bd857-788a-4344-b572-ec758f4aa29e",
   "metadata": {},
   "outputs": [
    {
     "name": "stdout",
     "output_type": "stream",
     "text": [
      "Python Platform: macOS-12.6-arm64-arm-64bit\n",
      "MPS (Apple Metal) is AVAILABLE\n",
      "Target device is mps\n",
      "finish to read all bar images\n",
      "finish to read all beach images\n",
      "finish to read all bookstore images\n",
      "finish to read all restaurant images\n",
      "finish to read all subway images\n",
      "Accuracy: 0.5864; Precision: 0.5954; Recall: 0.5974; F1: 0.5942\n",
      "Class bar - Accuracy: 0.4200; Precision: 0.5339; Recall: 0.4200; F1-score: 0.4701\n",
      "Class beach - Accuracy: 0.7679; Precision: 0.7963; Recall: 0.7679; F1-score: 0.7818\n",
      "Class bookstore - Accuracy: 0.5364; Precision: 0.5062; Recall: 0.5364; F1-score: 0.5209\n",
      "Class restaurant - Accuracy: 0.9292; Precision: 0.8537; Recall: 0.9292; F1-score: 0.8898\n",
      "Class subway - Accuracy: 0.3333; Precision: 0.2869; Recall: 0.3333; F1-score: 0.3084\n"
     ]
    },
    {
     "data": {
      "image/png": "[encoded data removed]",
      "text/plain": [
       "<Figure size 640x480 with 2 Axes>"
      ]
     },
     "metadata": {},
     "output_type": "display_data"
    }
   ],
   "source": [
    "import os\n",
    "import matplotlib.pyplot as plt\n",
    "import numpy as np\n",
    "import pandas as pd\n",
    "from dask.diagnostics import ProgressBar\n",
    "from PIL import Image\n",
    "import dask.bag as db\n",
    "import torch\n",
    "import torchvision.transforms as transforms\n",
    "from sklearn.model_selection import train_test_split\n",
    "from sklearn.metrics import accuracy_score, ConfusionMatrixDisplay, confusion_matrix, precision_score, recall_score, f1_score\n",
    "import platform\n",
    "from sklearn.semi_supervised import LabelPropagation\n",
    "from sklearn.tree import DecisionTreeClassifier\n",
    "\n",
    "has_gpu = torch.cuda.is_available()\n",
    "has_mps = torch.backends.mps.is_built()\n",
    "device = \"mps\" if has_mps else \"cuda\" if torch.cuda.is_available() else \"CPU\"\n",
    "\n",
    "print(f\"Python Platform: {platform.platform()}\")\n",
    "print(\"MPS (Apple Metal) is\", \"AVAILABLE\" if has_mps else \"NOT AVAILABLE\")\n",
    "print(f\"Target device is {device}\")\n",
    "\n",
    "img_path = 'final_dataset_augmentated'\n",
    "images = []\n",
    "labels = []\n",
    "\n",
    "label_map = {\n",
    "    'bar': 0,\n",
    "    'beach': 1,\n",
    "    'bookstore': 2,\n",
    "    'restaurant': 3,\n",
    "    'subway': 4\n",
    "}\n",
    "\n",
    "device = torch.device('cpu')\n",
    "\n",
    "transforms = transforms.Compose([\n",
    "    transforms.Resize((64, 64)),\n",
    "    transforms.ToTensor()\n",
    "])\n",
    "for name, num in label_map.items():\n",
    "    for img_name in os.listdir(os.path.join(img_path, name)):\n",
    "        img_file = Image.open(os.path.join(img_path, name, img_name)).convert('RGB')\n",
    "        img = transforms(img_file).to(device)\n",
    "        images.append(img.cpu().numpy())\n",
    "        labels.append(num)\n",
    "    print(f\"finish to read all {name} images\")\n",
    "\n",
    "\n",
    "X = np.array(images)\n",
    "Y = np.array(labels)\n",
    "\n",
    "\n",
    "\n",
    "X = X / 255.0\n",
    "\n",
    "# Reshape\n",
    "X_reshape = X.reshape(X.shape[0], -1)\n",
    "\n",
    "num_cluster = 5\n",
    "X_train, X_test, Y_train, Y_test = train_test_split(X_reshape,Y, test_size=0.2, random_state=42)\n",
    "\n",
    "X_labeled, X_unlabeled, Y_labeled, Y_unlabeled = train_test_split(X_train, Y_train, test_size=0.8, random_state=42)\n",
    "Y_train_unlabeled = np.full(Y_unlabeled.shape, -1)\n",
    "\n",
    "X_labeled_train = X_labeled\n",
    "X_unlabeled_train = X_unlabeled\n",
    "Y_unlabeled_train = Y_train_unlabeled\n",
    "Y_labeled_train = Y_labeled\n",
    "\n",
    "decision_tree = DecisionTreeClassifier(criterion=\"entropy\", max_depth=30, min_samples_split=2, min_samples_leaf=1)\n",
    "\n",
    "\n",
    "for i in range(0,15):\n",
    "    lprediction = decision_tree.fit(X_labeled_train, Y_labeled_train)\n",
    "    \n",
    "    Y_unlabeled_pred_proba = lprediction.predict_proba(X_unlabeled_train)\n",
    "    Y_unlabeled_pred = lprediction.predict(X_unlabeled_train)\n",
    "\n",
    "    \n",
    "    confidence_scores = np.max(Y_unlabeled_pred_proba, axis=1)\n",
    "    num_high_confidence = int(0.10 * len(Y_unlabeled_pred))\n",
    "    top_indices = np.argsort(confidence_scores)[-num_high_confidence:]\n",
    "\n",
    "    X_high_confidence = X_unlabeled_train[top_indices]\n",
    "    Y_high_confidence = Y_unlabeled_pred[top_indices]\n",
    "\n",
    "    \n",
    "    mask = np.ones(len(X_unlabeled_train), dtype=bool)\n",
    "    mask[top_indices] = False\n",
    "    X_unlabeled_train = X_unlabeled_train[mask]\n",
    "    Y_unlabeled_train = Y_unlabeled_train[mask]\n",
    "\n",
    "    X_labeled_train = np.concatenate((X_labeled_train, X_high_confidence))\n",
    "    Y_labeled_train = np.concatenate((Y_labeled_train, Y_high_confidence))\n",
    "\n",
    "# Evaluation\n",
    "Y_pred = decision_tree.predict(X_test)\n",
    "accuracy = accuracy_score(Y_test, Y_pred)\n",
    "precision = precision_score(Y_test, Y_pred, average='macro')\n",
    "recall = recall_score(Y_test, Y_pred, average='macro')\n",
    "f1 = f1_score(Y_test, Y_pred, average='macro')\n",
    "conf_matrix = confusion_matrix(Y_test, Y_pred)\n",
    "print(f\"Accuracy: {accuracy:.4f}; Precision: {precision:.4f}; Recall: {recall:.4f}; F1: {f1:.4f}\")\n",
    "\n",
    "class_correct = [0] * len(label_map)\n",
    "class_total = [0] * len(label_map)\n",
    "\n",
    "for i in range(len(Y_test)):\n",
    "    label = Y_test[i]\n",
    "    pred = Y_pred[i]\n",
    "    if label == pred:\n",
    "        class_correct[label] += 1\n",
    "    class_total[label] += 1\n",
    "\n",
    "for i in range(len(label_map)):\n",
    "    class_acc = class_correct[i] / class_total[i] if class_total[i] > 0 else 0\n",
    "    class_prec = precision_score(Y_test, Y_pred, labels=[i], average='macro', zero_division=0)\n",
    "    class_rec = recall_score(Y_test, Y_pred, labels=[i], average='macro', zero_division=0)\n",
    "    class_f1 = f1_score(Y_test, Y_pred, labels=[i], average='macro', zero_division=0)\n",
    "    print(f\"Class {list(label_map.keys())[i]} - Accuracy: {class_acc:.4f}; Precision: {class_prec:.4f}; Recall: {class_rec:.4f}; F1-score: {class_f1:.4f}\")\n",
    "\n",
    "confusion_matrix_display = ConfusionMatrixDisplay(conf_matrix, display_labels=label_map.keys())\n",
    "confusion_matrix_display.plot()\n",
    "plt.show()"
   ]
  },
  {
   "cell_type": "code",
   "execution_count": null,
   "id": "34c4cd53-8383-48b9-a8f8-f6a8ddbce843",
   "metadata": {},
   "outputs": [],
   "source": []
  }
 ],
 "metadata": {
  "kernelspec": {
   "display_name": "Python 3 (ipykernel)",
   "language": "python",
   "name": "python3"
  },
  "language_info": {
   "codemirror_mode": {
    "name": "ipython",
    "version": 3
   },
   "file_extension": ".py",
   "mimetype": "text/x-python",
   "name": "python",
   "nbconvert_exporter": "python",
   "pygments_lexer": "ipython3",
   "version": "3.11.9"
  }
 },
 "nbformat": 4,
 "nbformat_minor": 5
}
