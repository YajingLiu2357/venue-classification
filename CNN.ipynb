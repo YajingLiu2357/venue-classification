{
 "cells": [
  {
   "cell_type": "code",
   "execution_count": 29,
   "id": "6ca76038",
   "metadata": {},
   "outputs": [
    {
     "name": "stdout",
     "output_type": "stream",
     "text": [
      "2960\n"
     ]
    }
   ],
   "source": [
    "import torch\n",
    "import torchvision\n",
    "from torchvision import transforms\n",
    "from torchvision.datasets import ImageFolder\n",
    "\n",
    "data_dir = \"final_dataset\"\n",
    "\n",
    "dataset = ImageFolder(data_dir,transform = transforms.Compose([\n",
    "    transforms.Resize((150,150)),transforms.ToTensor()\n",
    "]))\n",
    "print(len(dataset))"
   ]
  },
  {
   "cell_type": "markdown",
   "id": "cfa65996",
   "metadata": {},
   "source": [
    "Splitting the dataset into train, test and validation sets:"
   ]
  },
  {
   "cell_type": "code",
   "execution_count": 30,
   "id": "abbe7df6",
   "metadata": {},
   "outputs": [
    {
     "name": "stdout",
     "output_type": "stream",
     "text": [
      "Length of Test Data : 592\n",
      "Length of Train Data : 1894\n",
      "Length of Validation Data : 474\n"
     ]
    }
   ],
   "source": [
    "from torch.utils.data.dataloader import DataLoader\n",
    "from torch.utils.data import random_split\n",
    "\n",
    "batch_size = 128\n",
    "test_size = int(len(dataset) * 0.2)\n",
    "rem_size = len(dataset) - test_size \n",
    "train_size = int(rem_size * 0.8)\n",
    "val_size = rem_size - train_size \n",
    "\n",
    "\n",
    "rem_data,test_data = random_split(dataset,[rem_size,test_size])\n",
    "train_data,val_data = random_split(rem_data,[train_size,val_size])\n",
    "print(f\"Length of Test Data : {len(test_data)}\")\n",
    "print(f\"Length of Train Data : {len(train_data)}\")\n",
    "print(f\"Length of Validation Data : {len(val_data)}\")"
   ]
  },
  {
   "cell_type": "code",
   "execution_count": 31,
   "id": "f7ab39d7",
   "metadata": {},
   "outputs": [],
   "source": [
    "#load the train and validation into batches.\n",
    "train_dl = DataLoader(train_data, batch_size, shuffle = True, num_workers = 4, pin_memory = True)\n",
    "val_dl = DataLoader(val_data, batch_size*2, num_workers = 4, pin_memory = True)"
   ]
  },
  {
   "cell_type": "markdown",
   "id": "346f2a18",
   "metadata": {},
   "source": [
    "Base model:"
   ]
  },
  {
   "cell_type": "code",
   "execution_count": 34,
   "id": "c5fe3d1c",
   "metadata": {},
   "outputs": [],
   "source": [
    "import torch.nn as nn\n",
    "import torch.nn.functional as F\n",
    "\n",
    "class ImageClassificationBase(nn.Module):\n",
    "    \n",
    "    def training_step(self, batch):\n",
    "        images, labels = batch \n",
    "        out = self(images)                  # Generate predictions\n",
    "        loss = F.cross_entropy(out, labels) # Calculate loss\n",
    "        return loss\n",
    "    \n",
    "    def validation_step(self, batch):\n",
    "        images, labels = batch \n",
    "        out = self(images)                    # Generate predictions\n",
    "        loss = F.cross_entropy(out, labels)   # Calculate loss\n",
    "        acc = accuracy(out, labels)           # Calculate accuracy\n",
    "        return {'val_loss': loss.detach(), 'val_acc': acc}\n",
    "        \n",
    "    def validation_epoch_end(self, outputs):\n",
    "        batch_losses = [x['val_loss'] for x in outputs]\n",
    "        epoch_loss = torch.stack(batch_losses).mean()   # Combine losses\n",
    "        batch_accs = [x['val_acc'] for x in outputs]\n",
    "        epoch_acc = torch.stack(batch_accs).mean()      # Combine accuracies\n",
    "        return {'val_loss': epoch_loss.item(), 'val_acc': epoch_acc.item()}\n",
    "    \n",
    "    def epoch_end(self, epoch, result):\n",
    "        print(\"Epoch [{}], train_loss: {:.4f}, val_loss: {:.4f}, val_acc: {:.4f}\".format(\n",
    "            epoch, result['train_loss'], result['val_loss'], result['val_acc']))\n",
    "        \n",
    "def accuracy(outputs, labels):\n",
    "    _, preds = torch.max(outputs, dim=1)\n",
    "    return torch.tensor(torch.sum(preds == labels).item() / len(preds))"
   ]
  },
  {
   "cell_type": "code",
   "execution_count": 35,
   "id": "f8b38812",
   "metadata": {},
   "outputs": [],
   "source": [
    "class NaturalSceneClassification(ImageClassificationBase):\n",
    "    def __init__(self):\n",
    "        super().__init__()\n",
    "        self.network = nn.Sequential(\n",
    "            \n",
    "            nn.Conv2d(3, 32, kernel_size = 3, padding = 1),\n",
    "            nn.ReLU(),\n",
    "            nn.Conv2d(32,64, kernel_size = 3, stride = 1, padding = 1),\n",
    "            nn.ReLU(),\n",
    "            nn.MaxPool2d(2,2),\n",
    "        \n",
    "            nn.Conv2d(64, 128, kernel_size = 3, stride = 1, padding = 1),\n",
    "            nn.ReLU(),\n",
    "            nn.Conv2d(128 ,128, kernel_size = 3, stride = 1, padding = 1),\n",
    "            nn.ReLU(),\n",
    "            nn.MaxPool2d(2,2),\n",
    "            \n",
    "            nn.Conv2d(128, 256, kernel_size = 3, stride = 1, padding = 1),\n",
    "            nn.ReLU(),\n",
    "            nn.Conv2d(256,256, kernel_size = 3, stride = 1, padding = 1),\n",
    "            nn.ReLU(),\n",
    "            nn.MaxPool2d(2,2),\n",
    "            \n",
    "            nn.Flatten(),\n",
    "            nn.Linear(82944,1024),\n",
    "            nn.ReLU(),\n",
    "            nn.Linear(1024, 512),\n",
    "            nn.ReLU(),\n",
    "            nn.Linear(512,6)\n",
    "        )\n",
    "    \n",
    "    def forward(self, xb):\n",
    "        return self.network(xb)\n"
   ]
  },
  {
   "cell_type": "code",
   "execution_count": 36,
   "id": "3fb2737b",
   "metadata": {},
   "outputs": [
    {
     "data": {
      "text/plain": [
       "NaturalSceneClassification(\n",
       "  (network): Sequential(\n",
       "    (0): Conv2d(3, 32, kernel_size=(3, 3), stride=(1, 1), padding=(1, 1))\n",
       "    (1): ReLU()\n",
       "    (2): Conv2d(32, 64, kernel_size=(3, 3), stride=(1, 1), padding=(1, 1))\n",
       "    (3): ReLU()\n",
       "    (4): MaxPool2d(kernel_size=2, stride=2, padding=0, dilation=1, ceil_mode=False)\n",
       "    (5): Conv2d(64, 128, kernel_size=(3, 3), stride=(1, 1), padding=(1, 1))\n",
       "    (6): ReLU()\n",
       "    (7): Conv2d(128, 128, kernel_size=(3, 3), stride=(1, 1), padding=(1, 1))\n",
       "    (8): ReLU()\n",
       "    (9): MaxPool2d(kernel_size=2, stride=2, padding=0, dilation=1, ceil_mode=False)\n",
       "    (10): Conv2d(128, 256, kernel_size=(3, 3), stride=(1, 1), padding=(1, 1))\n",
       "    (11): ReLU()\n",
       "    (12): Conv2d(256, 256, kernel_size=(3, 3), stride=(1, 1), padding=(1, 1))\n",
       "    (13): ReLU()\n",
       "    (14): MaxPool2d(kernel_size=2, stride=2, padding=0, dilation=1, ceil_mode=False)\n",
       "    (15): Flatten(start_dim=1, end_dim=-1)\n",
       "    (16): Linear(in_features=82944, out_features=1024, bias=True)\n",
       "    (17): ReLU()\n",
       "    (18): Linear(in_features=1024, out_features=512, bias=True)\n",
       "    (19): ReLU()\n",
       "    (20): Linear(in_features=512, out_features=6, bias=True)\n",
       "  )\n",
       ")"
      ]
     },
     "execution_count": 36,
     "metadata": {},
     "output_type": "execute_result"
    }
   ],
   "source": [
    "model = NaturalSceneClassification()\n",
    "model"
   ]
  },
  {
   "cell_type": "code",
   "execution_count": 37,
   "id": "39b07add",
   "metadata": {},
   "outputs": [],
   "source": [
    "@torch.no_grad()\n",
    "def evaluate(model, val_loader):\n",
    "    model.eval()\n",
    "    outputs = [model.validation_step(batch) for batch in val_loader]\n",
    "    return model.validation_epoch_end(outputs)\n",
    "\n",
    "def fit(epochs, lr, model, train_loader, val_loader, opt_func = torch.optim.SGD):\n",
    "    \n",
    "    history = []\n",
    "    optimizer = opt_func(model.parameters(),lr)\n",
    "    for epoch in range(epochs):\n",
    "        \n",
    "        model.train()\n",
    "        train_losses = []\n",
    "        for batch in train_loader:\n",
    "            loss = model.training_step(batch)\n",
    "            train_losses.append(loss)\n",
    "            loss.backward()\n",
    "            optimizer.step()\n",
    "            optimizer.zero_grad()\n",
    "            \n",
    "        result = evaluate(model, val_loader)\n",
    "        result['train_loss'] = torch.stack(train_losses).mean().item()\n",
    "        model.epoch_end(epoch, result)\n",
    "        history.append(result)\n",
    "    \n",
    "    return history"
   ]
  },
  {
   "cell_type": "code",
   "execution_count": 40,
   "id": "89c350f7",
   "metadata": {},
   "outputs": [],
   "source": [
    "#load the model to the device\n",
    "def to_device(data, device):\n",
    "    #\"Move data to the device\"\n",
    "    if isinstance(data,(list,tuple)):\n",
    "        return [to_device(x,device) for x in data]\n",
    "    return data.to(device,non_blocking = True)\n",
    "\n",
    "device = torch.device('cpu')\n",
    "model = to_device(NaturalSceneClassification(),device)"
   ]
  },
  {
   "cell_type": "code",
   "execution_count": 41,
   "id": "bb1d6199",
   "metadata": {},
   "outputs": [
    {
     "data": {
      "text/plain": [
       "{'val_loss': 1.7882239818572998, 'val_acc': 0.16723409295082092}"
      ]
     },
     "execution_count": 41,
     "metadata": {},
     "output_type": "execute_result"
    }
   ],
   "source": [
    "#initial evaluation of the model\n",
    "evaluate(model,val_dl)"
   ]
  },
  {
   "cell_type": "code",
   "execution_count": 43,
   "id": "e1673664",
   "metadata": {},
   "outputs": [
    {
     "name": "stdout",
     "output_type": "stream",
     "text": [
      "Epoch [0], train_loss: 1.6512, val_loss: 1.6281, val_acc: 0.2051\n",
      "Epoch [1], train_loss: 1.5578, val_loss: 1.4577, val_acc: 0.3409\n",
      "Epoch [2], train_loss: 1.2034, val_loss: 1.2006, val_acc: 0.4846\n",
      "Epoch [3], train_loss: 1.1059, val_loss: 1.0854, val_acc: 0.5186\n",
      "Epoch [4], train_loss: 1.0975, val_loss: 1.1288, val_acc: 0.5251\n",
      "Epoch [5], train_loss: 1.0909, val_loss: 1.0922, val_acc: 0.5496\n",
      "Epoch [6], train_loss: 0.9944, val_loss: 1.0004, val_acc: 0.6081\n",
      "Epoch [7], train_loss: 0.9413, val_loss: 1.0467, val_acc: 0.5719\n",
      "Epoch [8], train_loss: 0.8784, val_loss: 1.0202, val_acc: 0.5970\n",
      "Epoch [9], train_loss: 0.7720, val_loss: 0.9964, val_acc: 0.5754\n",
      "Epoch [10], train_loss: 0.7161, val_loss: 0.9631, val_acc: 0.6156\n",
      "Epoch [11], train_loss: 0.5960, val_loss: 1.0042, val_acc: 0.6326\n",
      "Epoch [12], train_loss: 0.4900, val_loss: 1.1026, val_acc: 0.6309\n",
      "Epoch [13], train_loss: 0.3680, val_loss: 1.1799, val_acc: 0.6372\n",
      "Epoch [14], train_loss: 0.2310, val_loss: 1.4553, val_acc: 0.6770\n",
      "Epoch [15], train_loss: 0.1419, val_loss: 1.7612, val_acc: 0.6701\n",
      "Epoch [16], train_loss: 0.1948, val_loss: 1.6548, val_acc: 0.6525\n",
      "Epoch [17], train_loss: 0.1389, val_loss: 1.4961, val_acc: 0.6613\n",
      "Epoch [18], train_loss: 0.0801, val_loss: 1.8338, val_acc: 0.6577\n",
      "Epoch [19], train_loss: 0.1238, val_loss: 1.6685, val_acc: 0.6568\n",
      "Epoch [20], train_loss: 0.0601, val_loss: 1.9487, val_acc: 0.6312\n",
      "Epoch [21], train_loss: 0.0217, val_loss: 2.4616, val_acc: 0.6560\n",
      "Epoch [22], train_loss: 0.0099, val_loss: 2.6468, val_acc: 0.6718\n",
      "Epoch [23], train_loss: 0.0196, val_loss: 2.9637, val_acc: 0.6188\n",
      "Epoch [24], train_loss: 0.0345, val_loss: 2.3843, val_acc: 0.6705\n",
      "Epoch [25], train_loss: 0.0669, val_loss: 2.2945, val_acc: 0.6538\n",
      "Epoch [26], train_loss: 0.0457, val_loss: 2.0811, val_acc: 0.6489\n",
      "Epoch [27], train_loss: 0.0234, val_loss: 2.6567, val_acc: 0.6574\n",
      "Epoch [28], train_loss: 0.0063, val_loss: 2.6450, val_acc: 0.6636\n",
      "Epoch [29], train_loss: 0.0107, val_loss: 2.8163, val_acc: 0.6666\n"
     ]
    }
   ],
   "source": [
    "#set the no. of epochs, optimizer funtion and learning rate\n",
    "num_epochs = 30\n",
    "opt_func = torch.optim.Adam\n",
    "lr = 0.001\n",
    "#fitting the model on training data and record the result after each epoch\n",
    "history = fit(num_epochs, lr, model, train_dl, val_dl, opt_func)"
   ]
  },
  {
   "cell_type": "code",
   "execution_count": 45,
   "id": "aa815904",
   "metadata": {},
   "outputs": [
    {
     "data": {
      "image/png": "[encoded data removed]",
      "text/plain": [
       "<Figure size 640x480 with 1 Axes>"
      ]
     },
     "metadata": {},
     "output_type": "display_data"
    }
   ],
   "source": [
    "import matplotlib.pyplot as plt\n",
    "\n",
    "def plot_accuracies(history):\n",
    "    \"\"\" Plot the history of accuracies\"\"\"\n",
    "    accuracies = [x['val_acc'] for x in history]\n",
    "    plt.plot(accuracies, '-x')\n",
    "    plt.xlabel('epoch')\n",
    "    plt.ylabel('accuracy')\n",
    "    plt.title('Accuracy vs. No. of epochs');\n",
    "    \n",
    "\n",
    "plot_accuracies(history)\n",
    "\n",
    "def plot_losses(history):\n",
    "    \"\"\" Plot the losses in each epoch\"\"\"\n",
    "    train_losses = [x.get('train_loss') for x in history]\n",
    "    val_losses = [x['val_loss'] for x in history]\n",
    "    plt.plot(train_losses, '-bx')\n",
    "    plt.plot(val_losses, '-rx')\n",
    "    plt.xlabel('epoch')\n",
    "    plt.ylabel('loss')\n",
    "    plt.legend(['Training', 'Validation'])\n",
    "    plt.title('Loss vs. No. of epochs');\n",
    "\n",
    "plot_losses(history)\n",
    "\n",
    "#save the model\n",
    "torch.save(model.state_dict(), 'try1-natural-scene-classification.pth')"
   ]
  },
  {
   "cell_type": "code",
   "execution_count": null,
   "id": "2acba437",
   "metadata": {},
   "outputs": [],
   "source": []
  }
 ],
 "metadata": {
  "kernelspec": {
   "display_name": "aiproj",
   "language": "python",
   "name": "aiproj"
  },
  "language_info": {
   "codemirror_mode": {
    "name": "ipython",
    "version": 3
   },
   "file_extension": ".py",
   "mimetype": "text/x-python",
   "name": "python",
   "nbconvert_exporter": "python",
   "pygments_lexer": "ipython3",
   "version": "3.12.2"
  }
 },
 "nbformat": 4,
 "nbformat_minor": 5
}
