{
 "cells": [
  {
   "cell_type": "markdown",
   "id": "f819db14",
   "metadata": {},
   "source": [
    "Import the model and required libs:"
   ]
  },
  {
   "cell_type": "code",
   "execution_count": 1,
   "id": "63810663",
   "metadata": {},
   "outputs": [],
   "source": [
    "import torch\n",
    "import torchvision.transforms as transforms\n",
    "from PIL import Image\n",
    "from CNNModel import CNNModel"
   ]
  },
  {
   "cell_type": "code",
   "execution_count": 2,
   "id": "06e0d40e",
   "metadata": {},
   "outputs": [
    {
     "data": {
      "text/plain": [
       "CNNModel(\n",
       "  (layer1): Sequential(\n",
       "    (0): Conv2d(3, 32, kernel_size=(3, 3), stride=(1, 1), padding=(1, 1))\n",
       "    (1): BatchNorm2d(32, eps=1e-05, momentum=0.1, affine=True, track_running_stats=True)\n",
       "    (2): LeakyReLU(negative_slope=0.01, inplace=True)\n",
       "    (3): Conv2d(32, 32, kernel_size=(3, 3), stride=(1, 1), padding=(1, 1))\n",
       "    (4): BatchNorm2d(32, eps=1e-05, momentum=0.1, affine=True, track_running_stats=True)\n",
       "    (5): LeakyReLU(negative_slope=0.01, inplace=True)\n",
       "    (6): MaxPool2d(kernel_size=2, stride=2, padding=0, dilation=1, ceil_mode=False)\n",
       "  )\n",
       "  (layer2): Sequential(\n",
       "    (0): Conv2d(32, 64, kernel_size=(3, 3), stride=(1, 1), padding=(1, 1))\n",
       "    (1): BatchNorm2d(64, eps=1e-05, momentum=0.1, affine=True, track_running_stats=True)\n",
       "    (2): LeakyReLU(negative_slope=0.01, inplace=True)\n",
       "    (3): Conv2d(64, 64, kernel_size=(3, 3), stride=(1, 1), padding=(1, 1))\n",
       "    (4): BatchNorm2d(64, eps=1e-05, momentum=0.1, affine=True, track_running_stats=True)\n",
       "    (5): LeakyReLU(negative_slope=0.01, inplace=True)\n",
       "    (6): MaxPool2d(kernel_size=2, stride=2, padding=0, dilation=1, ceil_mode=False)\n",
       "  )\n",
       "  (fc1): Sequential(\n",
       "    (0): Dropout(p=0.1, inplace=False)\n",
       "    (1): Linear(in_features=16384, out_features=1000, bias=True)\n",
       "    (2): ReLU(inplace=True)\n",
       "    (3): Linear(in_features=1000, out_features=512, bias=True)\n",
       "    (4): ReLU(inplace=True)\n",
       "    (5): Dropout(p=0.1, inplace=False)\n",
       "    (6): Linear(in_features=512, out_features=5, bias=True)\n",
       "  )\n",
       ")"
      ]
     },
     "execution_count": 2,
     "metadata": {},
     "output_type": "execute_result"
    }
   ],
   "source": [
    "model_path = 'saved_models/Epoch20Batch128OriginalDataModel.pth'\n",
    "model = CNNModel(5)\n",
    "model.load_state_dict(torch.load(model_path))\n",
    "model.eval()"
   ]
  },
  {
   "cell_type": "code",
   "execution_count": 3,
   "id": "3c34490c",
   "metadata": {},
   "outputs": [
    {
     "ename": "SyntaxError",
     "evalue": "invalid syntax (3790197008.py, line 1)",
     "output_type": "error",
     "traceback": [
      "\u001b[1;36m  Cell \u001b[1;32mIn[3], line 1\u001b[1;36m\u001b[0m\n\u001b[1;33m    Prediction using CNN model:\u001b[0m\n\u001b[1;37m               ^\u001b[0m\n\u001b[1;31mSyntaxError\u001b[0m\u001b[1;31m:\u001b[0m invalid syntax\n"
     ]
    }
   ],
   "source": [
    "Prediction using CNN model:"
   ]
  },
  {
   "cell_type": "code",
   "execution_count": null,
   "id": "32d49b01",
   "metadata": {},
   "outputs": [],
   "source": [
    "def preprocess_image(image_path):\n",
    "    image = Image.open(image_path).convert('RGB')\n",
    "\n",
    "    # The normalization transform\n",
    "    normalize = transforms.Normalize(mean=[0.485, 0.456, 0.406], std=[0.229, 0.224, 0.225])\n",
    "\n",
    "    transform = transforms.Compose([\n",
    "        transforms.Resize((64, 64)),\n",
    "        transforms.ToTensor(),\n",
    "        normalize\n",
    "    ])\n",
    "    \n",
    "    # Apply the transformation pipeline to the image\n",
    "    return transform(image) \n",
    "\n",
    "label_map = {\n",
    "        0: 'bar',\n",
    "        1: 'beach',\n",
    "        2: 'bookstore',\n",
    "        3: 'restaurant',\n",
    "        4: 'subway'\n",
    "    }\n",
    "\n",
    "\n",
    "def predict_image_class(image_path, model):\n",
    "    image = preprocess_image(image_path)\n",
    "    image_tensor = image.unsqueeze(0)\n",
    "    with torch.no_grad():\n",
    "        outputs = model(image_tensor)\n",
    "        _, predicted = torch.max(outputs, 1)\n",
    "    return label_map[predicted.item()]\n",
    "\n",
    "\n",
    "#test image:\n",
    "image_path = 'beach.jpg'\n",
    "predicted_class = predict_image_class(image_path, model)\n",
    "print(f'Predicted class: {predicted_class}')\n",
    "\n",
    "#test image:\n",
    "image_path = 'beach.jpg'\n",
    "predicted_class = predict_image_class(image_path, model)\n",
    "print(f'Predicted class: {predicted_class}')\n",
    "\n",
    "#test image:\n",
    "image_path = 'beach.jpg'\n",
    "predicted_class = predict_image_class(image_path, model)\n",
    "print(f'Predicted class: {predicted_class}')"
   ]
  },
  {
   "cell_type": "markdown",
   "id": "6ba6eaf5",
   "metadata": {},
   "source": [
    "Prediction using Decision Tree Model:"
   ]
  },
  {
   "cell_type": "code",
   "execution_count": null,
   "id": "c267fdc5",
   "metadata": {},
   "outputs": [],
   "source": [
    "import pickle\n",
    "decision_tree = 'saved_models/best_decision_tree_model.pkl'"
   ]
  },
  {
   "cell_type": "code",
   "execution_count": null,
   "id": "3c2cd134",
   "metadata": {},
   "outputs": [],
   "source": [
    "def classify_image(image_path, model_path):\n",
    "    with open(model_path, 'rb') as model_file:\n",
    "        loaded_model = pickle.load(model_file)\n",
    "\n",
    "    # Define image transformations\n",
    "    transform = transforms.Compose([\n",
    "        transforms.Resize((32, 32)),  # Resize images to 32x32 pixels\n",
    "        transforms.ToTensor()         # Convert images to PyTorch tensors\n",
    "    ])\n",
    "\n",
    "    # Load and preprocess the image\n",
    "    img_file = Image.open(image_path).convert('RGB')\n",
    "    img = transform(img_file).numpy()\n",
    "    img = img / 255.0\n",
    "    img = img.reshape(1, -1)  # Flatten the image\n",
    "\n",
    "\n",
    "    prediction = loaded_model.predict(img)\n",
    "\n",
    "    label_map = {\n",
    "        0: 'bar',\n",
    "        1: 'beach',\n",
    "        2: 'bookstore',\n",
    "        3: 'restaurant',\n",
    "        4: 'subway'\n",
    "    }\n",
    "\n",
    "    predicted_class = label_map[prediction[0]]\n",
    "    return predicted_class\n",
    "\n",
    "# Example usage\n",
    "image_path = 'beach.jpg'  \n",
    "predicted_class = classify_image(image_path, decision_tree)\n",
    "print(f'The image is classified as: {predicted_class}')\n",
    "\n",
    "\n",
    "\n",
    "image_path = 'beach.jpg' \n",
    "predicted_class = classify_image(image_path)\n",
    "print(f'The image is classified as: {predicted_class}')\n",
    "\n",
    "\n",
    "image_path = 'beach.jpg'  \n",
    "predicted_class = classify_image(image_path)\n",
    "print(f'The image is classified as: {predicted_class}')"
   ]
  },
  {
   "cell_type": "code",
   "execution_count": null,
   "id": "14e0e7de",
   "metadata": {},
   "outputs": [],
   "source": []
  }
 ],
 "metadata": {
  "kernelspec": {
   "display_name": "aiproj",
   "language": "python",
   "name": "aiproj"
  },
  "language_info": {
   "codemirror_mode": {
    "name": "ipython",
    "version": 3
   },
   "file_extension": ".py",
   "mimetype": "text/x-python",
   "name": "python",
   "nbconvert_exporter": "python",
   "pygments_lexer": "ipython3",
   "version": "3.12.2"
  }
 },
 "nbformat": 4,
 "nbformat_minor": 5
}
